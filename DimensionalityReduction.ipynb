{
 "cells": [
  {
   "cell_type": "code",
   "execution_count": 25,
   "metadata": {},
   "outputs": [],
   "source": [
    "import pandas as pd\n",
    "import numpy as np\n",
    "import matplotlib.pyplot as plt\n",
    "\n",
    "from sklearn import linear_model, metrics\n",
    "from sklearn.model_selection import train_test_split\n",
    "from sklearn.model_selection import GridSearchCV\n",
    "\n",
    "from sklearn.neural_network import BernoulliRBM\n",
    "from sklearn.pipeline import Pipeline\n",
    "from sklearn.base import clone"
   ]
  },
  {
   "cell_type": "code",
   "execution_count": 4,
   "metadata": {},
   "outputs": [
    {
     "data": {
      "text/html": [
       "<div>\n",
       "<style scoped>\n",
       "    .dataframe tbody tr th:only-of-type {\n",
       "        vertical-align: middle;\n",
       "    }\n",
       "\n",
       "    .dataframe tbody tr th {\n",
       "        vertical-align: top;\n",
       "    }\n",
       "\n",
       "    .dataframe thead th {\n",
       "        text-align: right;\n",
       "    }\n",
       "</style>\n",
       "<table border=\"1\" class=\"dataframe\">\n",
       "  <thead>\n",
       "    <tr style=\"text-align: right;\">\n",
       "      <th></th>\n",
       "      <th>label</th>\n",
       "      <th>1x1</th>\n",
       "      <th>1x2</th>\n",
       "      <th>1x3</th>\n",
       "      <th>1x4</th>\n",
       "      <th>1x5</th>\n",
       "      <th>1x6</th>\n",
       "      <th>1x7</th>\n",
       "      <th>1x8</th>\n",
       "      <th>1x9</th>\n",
       "      <th>...</th>\n",
       "      <th>28x19</th>\n",
       "      <th>28x20</th>\n",
       "      <th>28x21</th>\n",
       "      <th>28x22</th>\n",
       "      <th>28x23</th>\n",
       "      <th>28x24</th>\n",
       "      <th>28x25</th>\n",
       "      <th>28x26</th>\n",
       "      <th>28x27</th>\n",
       "      <th>28x28</th>\n",
       "    </tr>\n",
       "  </thead>\n",
       "  <tbody>\n",
       "    <tr>\n",
       "      <th>0</th>\n",
       "      <td>7</td>\n",
       "      <td>0</td>\n",
       "      <td>0</td>\n",
       "      <td>0</td>\n",
       "      <td>0</td>\n",
       "      <td>0</td>\n",
       "      <td>0</td>\n",
       "      <td>0</td>\n",
       "      <td>0</td>\n",
       "      <td>0</td>\n",
       "      <td>...</td>\n",
       "      <td>0</td>\n",
       "      <td>0</td>\n",
       "      <td>0</td>\n",
       "      <td>0</td>\n",
       "      <td>0</td>\n",
       "      <td>0</td>\n",
       "      <td>0</td>\n",
       "      <td>0</td>\n",
       "      <td>0</td>\n",
       "      <td>0</td>\n",
       "    </tr>\n",
       "    <tr>\n",
       "      <th>1</th>\n",
       "      <td>2</td>\n",
       "      <td>0</td>\n",
       "      <td>0</td>\n",
       "      <td>0</td>\n",
       "      <td>0</td>\n",
       "      <td>0</td>\n",
       "      <td>0</td>\n",
       "      <td>0</td>\n",
       "      <td>0</td>\n",
       "      <td>0</td>\n",
       "      <td>...</td>\n",
       "      <td>0</td>\n",
       "      <td>0</td>\n",
       "      <td>0</td>\n",
       "      <td>0</td>\n",
       "      <td>0</td>\n",
       "      <td>0</td>\n",
       "      <td>0</td>\n",
       "      <td>0</td>\n",
       "      <td>0</td>\n",
       "      <td>0</td>\n",
       "    </tr>\n",
       "    <tr>\n",
       "      <th>2</th>\n",
       "      <td>1</td>\n",
       "      <td>0</td>\n",
       "      <td>0</td>\n",
       "      <td>0</td>\n",
       "      <td>0</td>\n",
       "      <td>0</td>\n",
       "      <td>0</td>\n",
       "      <td>0</td>\n",
       "      <td>0</td>\n",
       "      <td>0</td>\n",
       "      <td>...</td>\n",
       "      <td>0</td>\n",
       "      <td>0</td>\n",
       "      <td>0</td>\n",
       "      <td>0</td>\n",
       "      <td>0</td>\n",
       "      <td>0</td>\n",
       "      <td>0</td>\n",
       "      <td>0</td>\n",
       "      <td>0</td>\n",
       "      <td>0</td>\n",
       "    </tr>\n",
       "    <tr>\n",
       "      <th>3</th>\n",
       "      <td>0</td>\n",
       "      <td>0</td>\n",
       "      <td>0</td>\n",
       "      <td>0</td>\n",
       "      <td>0</td>\n",
       "      <td>0</td>\n",
       "      <td>0</td>\n",
       "      <td>0</td>\n",
       "      <td>0</td>\n",
       "      <td>0</td>\n",
       "      <td>...</td>\n",
       "      <td>0</td>\n",
       "      <td>0</td>\n",
       "      <td>0</td>\n",
       "      <td>0</td>\n",
       "      <td>0</td>\n",
       "      <td>0</td>\n",
       "      <td>0</td>\n",
       "      <td>0</td>\n",
       "      <td>0</td>\n",
       "      <td>0</td>\n",
       "    </tr>\n",
       "    <tr>\n",
       "      <th>4</th>\n",
       "      <td>4</td>\n",
       "      <td>0</td>\n",
       "      <td>0</td>\n",
       "      <td>0</td>\n",
       "      <td>0</td>\n",
       "      <td>0</td>\n",
       "      <td>0</td>\n",
       "      <td>0</td>\n",
       "      <td>0</td>\n",
       "      <td>0</td>\n",
       "      <td>...</td>\n",
       "      <td>0</td>\n",
       "      <td>0</td>\n",
       "      <td>0</td>\n",
       "      <td>0</td>\n",
       "      <td>0</td>\n",
       "      <td>0</td>\n",
       "      <td>0</td>\n",
       "      <td>0</td>\n",
       "      <td>0</td>\n",
       "      <td>0</td>\n",
       "    </tr>\n",
       "  </tbody>\n",
       "</table>\n",
       "<p>5 rows × 785 columns</p>\n",
       "</div>"
      ],
      "text/plain": [
       "   label  1x1  1x2  1x3  1x4  1x5  1x6  1x7  1x8  1x9  ...  28x19  28x20  \\\n",
       "0      7    0    0    0    0    0    0    0    0    0  ...      0      0   \n",
       "1      2    0    0    0    0    0    0    0    0    0  ...      0      0   \n",
       "2      1    0    0    0    0    0    0    0    0    0  ...      0      0   \n",
       "3      0    0    0    0    0    0    0    0    0    0  ...      0      0   \n",
       "4      4    0    0    0    0    0    0    0    0    0  ...      0      0   \n",
       "\n",
       "   28x21  28x22  28x23  28x24  28x25  28x26  28x27  28x28  \n",
       "0      0      0      0      0      0      0      0      0  \n",
       "1      0      0      0      0      0      0      0      0  \n",
       "2      0      0      0      0      0      0      0      0  \n",
       "3      0      0      0      0      0      0      0      0  \n",
       "4      0      0      0      0      0      0      0      0  \n",
       "\n",
       "[5 rows x 785 columns]"
      ]
     },
     "execution_count": 4,
     "metadata": {},
     "output_type": "execute_result"
    }
   ],
   "source": [
    "mnist_data = pd.read_csv('datasets/mnist.csv')\n",
    "\n",
    "mnist_data.head()"
   ]
  },
  {
   "cell_type": "code",
   "execution_count": 5,
   "metadata": {},
   "outputs": [
    {
     "data": {
      "text/plain": [
       "(10000, 785)"
      ]
     },
     "execution_count": 5,
     "metadata": {},
     "output_type": "execute_result"
    }
   ],
   "source": [
    "mnist_data.shape"
   ]
  },
  {
   "cell_type": "code",
   "execution_count": 9,
   "metadata": {},
   "outputs": [
    {
     "data": {
      "text/plain": [
       "10"
      ]
     },
     "execution_count": 9,
     "metadata": {},
     "output_type": "execute_result"
    }
   ],
   "source": [
    "mnist_data['label'].nunique()"
   ]
  },
  {
   "cell_type": "code",
   "execution_count": 11,
   "metadata": {},
   "outputs": [],
   "source": [
    "mnist_features = mnist_data[mnist_data.columns[1:]]\n",
    "\n",
    "mnist_label = mnist_data['label']"
   ]
  },
  {
   "cell_type": "code",
   "execution_count": 16,
   "metadata": {},
   "outputs": [],
   "source": [
    "def display_image(index):\n",
    "    print('Digit: ', mnist_label[index])\n",
    "    \n",
    "    plt.imshow(mnist_features.loc[index].values.reshape(28, 28), cmap='Greys')"
   ]
  },
  {
   "cell_type": "code",
   "execution_count": 17,
   "metadata": {},
   "outputs": [
    {
     "name": "stdout",
     "output_type": "stream",
     "text": [
      "Digit:  1\n"
     ]
    },
    {
     "data": {
      "image/png": "[encoded data removed]",
      "text/plain": [
       "<Figure size 432x288 with 1 Axes>"
      ]
     },
     "metadata": {
      "needs_background": "light"
     },
     "output_type": "display_data"
    }
   ],
   "source": [
    "display_image(2)"
   ]
  },
  {
   "cell_type": "code",
   "execution_count": 18,
   "metadata": {},
   "outputs": [
    {
     "name": "stdout",
     "output_type": "stream",
     "text": [
      "Digit:  7\n"
     ]
    },
    {
     "data": {
      "image/png": "[encoded data removed]",
      "text/plain": [
       "<Figure size 432x288 with 1 Axes>"
      ]
     },
     "metadata": {
      "needs_background": "light"
     },
     "output_type": "display_data"
    }
   ],
   "source": [
    "display_image(0)"
   ]
  },
  {
   "cell_type": "code",
   "execution_count": 19,
   "metadata": {},
   "outputs": [
    {
     "data": {
      "text/plain": [
       "(10000, 784)"
      ]
     },
     "execution_count": 19,
     "metadata": {},
     "output_type": "execute_result"
    }
   ],
   "source": [
    "mnist_features = np.asarray(mnist_features)\n",
    "\n",
    "mnist_features.shape"
   ]
  },
  {
   "cell_type": "code",
   "execution_count": 20,
   "metadata": {},
   "outputs": [
    {
     "data": {
      "text/plain": [
       "array([179, 245, 236, 242, 254, 254, 254, 254, 245, 235,  84,   0,   0,\n",
       "         0,   0,   0,   0,   0,   0,   0,   0,   0,   0,   0,   0,   0,\n",
       "         0, 151, 254, 254, 254, 213, 192, 178, 178, 180, 254, 254, 241,\n",
       "        46,   0,   0,   0,   0,   0,   0,   0,   0,   0,   0], dtype=int64)"
      ]
     },
     "execution_count": 20,
     "metadata": {},
     "output_type": "execute_result"
    }
   ],
   "source": [
    "mnist_features[10][150:200]"
   ]
  },
  {
   "cell_type": "code",
   "execution_count": 21,
   "metadata": {},
   "outputs": [],
   "source": [
    "mnist_features = mnist_features /255"
   ]
  },
  {
   "cell_type": "code",
   "execution_count": 22,
   "metadata": {},
   "outputs": [
    {
     "data": {
      "text/plain": [
       "array([0.70196078, 0.96078431, 0.9254902 , 0.94901961, 0.99607843,\n",
       "       0.99607843, 0.99607843, 0.99607843, 0.96078431, 0.92156863,\n",
       "       0.32941176, 0.        , 0.        , 0.        , 0.        ,\n",
       "       0.        , 0.        , 0.        , 0.        , 0.        ,\n",
       "       0.        , 0.        , 0.        , 0.        , 0.        ,\n",
       "       0.        , 0.        , 0.59215686, 0.99607843, 0.99607843,\n",
       "       0.99607843, 0.83529412, 0.75294118, 0.69803922, 0.69803922,\n",
       "       0.70588235, 0.99607843, 0.99607843, 0.94509804, 0.18039216,\n",
       "       0.        , 0.        , 0.        , 0.        , 0.        ,\n",
       "       0.        , 0.        , 0.        , 0.        , 0.        ])"
      ]
     },
     "execution_count": 22,
     "metadata": {},
     "output_type": "execute_result"
    }
   ],
   "source": [
    "mnist_features[10][150:200]"
   ]
  },
  {
   "cell_type": "code",
   "execution_count": 24,
   "metadata": {},
   "outputs": [],
   "source": [
    "x_train, x_test, y_train, y_test = train_test_split(mnist_features, mnist_label, test_size = 0.2, shuffle = True)"
   ]
  },
  {
   "cell_type": "code",
   "execution_count": 26,
   "metadata": {},
   "outputs": [],
   "source": [
    "logistic = linear_model.LogisticRegression(solver ='lbfgs', max_iter = 1000, multi_class = 'multinomial')"
   ]
  },
  {
   "cell_type": "code",
   "execution_count": 28,
   "metadata": {},
   "outputs": [
    {
     "data": {
      "text/plain": [
       "{'C': 0.1}"
      ]
     },
     "execution_count": 28,
     "metadata": {},
     "output_type": "execute_result"
    }
   ],
   "source": [
    "param_grid = {'C' : [0.1, 1, 5]}\n",
    "\n",
    "grid_search = GridSearchCV(logistic, param_grid, cv = 2)\n",
    "grid_search.fit(x_train, y_train)\n",
    "grid_search.best_params_"
   ]
  },
  {
   "cell_type": "code",
   "execution_count": 32,
   "metadata": {},
   "outputs": [
    {
     "name": "stdout",
     "output_type": "stream",
     "text": [
      "parameters:  {'C': 0.1}\n",
      "mean test score:  0.909125\n",
      "rank:  1\n",
      "\n",
      "parameters:  {'C': 1}\n",
      "mean test score:  0.904\n",
      "rank:  2\n",
      "\n",
      "parameters:  {'C': 5}\n",
      "mean test score:  0.8967499999999999\n",
      "rank:  3\n",
      "\n"
     ]
    }
   ],
   "source": [
    "for i in range(3):\n",
    "    print('parameters: ', grid_search.cv_results_['params'][i])\n",
    "    print('mean test score: ', grid_search.cv_results_['mean_test_score'][i])\n",
    "    print('rank: ', grid_search.cv_results_['rank_test_score'][i])\n",
    "    print()"
   ]
  },
  {
   "cell_type": "code",
   "execution_count": 34,
   "metadata": {},
   "outputs": [],
   "source": [
    "rbm = BernoulliRBM(verbose = True)\n",
    "\n",
    "rbm_features_classifier = Pipeline(steps = [('rbm', rbm),\n",
    "                                            ('logistic', logistic)\n",
    "                                          ])\n",
    "\n",
    "rbm.learning_rate = 0.04\n",
    "logistic.C = grid_search.best_params_['C']"
   ]
  },
  {
   "cell_type": "code",
   "execution_count": 36,
   "metadata": {},
   "outputs": [
    {
     "data": {
      "text/plain": [
       "dict_keys(['memory', 'steps', 'verbose', 'rbm', 'logistic', 'rbm__batch_size', 'rbm__learning_rate', 'rbm__n_components', 'rbm__n_iter', 'rbm__random_state', 'rbm__verbose', 'logistic__C', 'logistic__class_weight', 'logistic__dual', 'logistic__fit_intercept', 'logistic__intercept_scaling', 'logistic__l1_ratio', 'logistic__max_iter', 'logistic__multi_class', 'logistic__n_jobs', 'logistic__penalty', 'logistic__random_state', 'logistic__solver', 'logistic__tol', 'logistic__verbose', 'logistic__warm_start'])"
      ]
     },
     "execution_count": 36,
     "metadata": {},
     "output_type": "execute_result"
    }
   ],
   "source": [
    "rbm_features_classifier.get_params().keys()"
   ]
  },
  {
   "cell_type": "code",
   "execution_count": 40,
   "metadata": {},
   "outputs": [
    {
     "name": "stdout",
     "output_type": "stream",
     "text": [
      "[BernoulliRBM] Iteration 1, pseudo-likelihood = -200.10, time = 0.36s\n",
      "[BernoulliRBM] Iteration 2, pseudo-likelihood = -195.54, time = 0.36s\n",
      "[BernoulliRBM] Iteration 3, pseudo-likelihood = -198.44, time = 0.36s\n",
      "[BernoulliRBM] Iteration 4, pseudo-likelihood = -193.40, time = 0.27s\n",
      "[BernoulliRBM] Iteration 5, pseudo-likelihood = -190.67, time = 0.22s\n",
      "[BernoulliRBM] Iteration 1, pseudo-likelihood = -199.92, time = 0.24s\n",
      "[BernoulliRBM] Iteration 2, pseudo-likelihood = -198.74, time = 0.20s\n",
      "[BernoulliRBM] Iteration 3, pseudo-likelihood = -194.66, time = 0.25s\n",
      "[BernoulliRBM] Iteration 4, pseudo-likelihood = -199.40, time = 0.26s\n",
      "[BernoulliRBM] Iteration 5, pseudo-likelihood = -203.69, time = 0.23s\n",
      "[BernoulliRBM] Iteration 1, pseudo-likelihood = -199.36, time = 0.20s\n",
      "[BernoulliRBM] Iteration 2, pseudo-likelihood = -199.41, time = 0.28s\n",
      "[BernoulliRBM] Iteration 3, pseudo-likelihood = -195.14, time = 0.33s\n",
      "[BernoulliRBM] Iteration 4, pseudo-likelihood = -190.55, time = 0.32s\n",
      "[BernoulliRBM] Iteration 5, pseudo-likelihood = -189.88, time = 0.31s\n",
      "[BernoulliRBM] Iteration 6, pseudo-likelihood = -196.53, time = 0.29s\n",
      "[BernoulliRBM] Iteration 7, pseudo-likelihood = -195.93, time = 0.27s\n",
      "[BernoulliRBM] Iteration 8, pseudo-likelihood = -189.81, time = 0.23s\n",
      "[BernoulliRBM] Iteration 9, pseudo-likelihood = -200.90, time = 0.28s\n",
      "[BernoulliRBM] Iteration 10, pseudo-likelihood = -190.90, time = 0.27s\n",
      "[BernoulliRBM] Iteration 11, pseudo-likelihood = -190.64, time = 0.21s\n",
      "[BernoulliRBM] Iteration 12, pseudo-likelihood = -187.72, time = 0.27s\n",
      "[BernoulliRBM] Iteration 13, pseudo-likelihood = -201.75, time = 0.27s\n",
      "[BernoulliRBM] Iteration 14, pseudo-likelihood = -201.87, time = 0.24s\n",
      "[BernoulliRBM] Iteration 15, pseudo-likelihood = -191.67, time = 0.22s\n",
      "[BernoulliRBM] Iteration 16, pseudo-likelihood = -198.96, time = 0.22s\n",
      "[BernoulliRBM] Iteration 17, pseudo-likelihood = -199.47, time = 0.22s\n",
      "[BernoulliRBM] Iteration 18, pseudo-likelihood = -193.92, time = 0.21s\n",
      "[BernoulliRBM] Iteration 19, pseudo-likelihood = -191.79, time = 0.20s\n",
      "[BernoulliRBM] Iteration 20, pseudo-likelihood = -188.33, time = 0.23s\n",
      "[BernoulliRBM] Iteration 1, pseudo-likelihood = -208.69, time = 0.21s\n",
      "[BernoulliRBM] Iteration 2, pseudo-likelihood = -194.34, time = 0.20s\n",
      "[BernoulliRBM] Iteration 3, pseudo-likelihood = -195.54, time = 0.25s\n",
      "[BernoulliRBM] Iteration 4, pseudo-likelihood = -205.89, time = 0.27s\n",
      "[BernoulliRBM] Iteration 5, pseudo-likelihood = -185.52, time = 0.27s\n",
      "[BernoulliRBM] Iteration 6, pseudo-likelihood = -201.12, time = 0.26s\n",
      "[BernoulliRBM] Iteration 7, pseudo-likelihood = -198.75, time = 0.23s\n",
      "[BernoulliRBM] Iteration 8, pseudo-likelihood = -209.94, time = 0.22s\n",
      "[BernoulliRBM] Iteration 9, pseudo-likelihood = -195.47, time = 0.21s\n",
      "[BernoulliRBM] Iteration 10, pseudo-likelihood = -192.44, time = 0.20s\n",
      "[BernoulliRBM] Iteration 11, pseudo-likelihood = -200.09, time = 0.27s\n",
      "[BernoulliRBM] Iteration 12, pseudo-likelihood = -195.51, time = 0.26s\n",
      "[BernoulliRBM] Iteration 13, pseudo-likelihood = -199.57, time = 0.26s\n",
      "[BernoulliRBM] Iteration 14, pseudo-likelihood = -194.02, time = 0.26s\n",
      "[BernoulliRBM] Iteration 15, pseudo-likelihood = -201.98, time = 0.26s\n",
      "[BernoulliRBM] Iteration 16, pseudo-likelihood = -198.74, time = 0.31s\n",
      "[BernoulliRBM] Iteration 17, pseudo-likelihood = -202.58, time = 0.25s\n",
      "[BernoulliRBM] Iteration 18, pseudo-likelihood = -195.80, time = 0.25s\n",
      "[BernoulliRBM] Iteration 19, pseudo-likelihood = -202.38, time = 0.27s\n",
      "[BernoulliRBM] Iteration 20, pseudo-likelihood = -198.90, time = 0.25s\n",
      "[BernoulliRBM] Iteration 1, pseudo-likelihood = -160.64, time = 0.41s\n",
      "[BernoulliRBM] Iteration 2, pseudo-likelihood = -143.69, time = 0.43s\n",
      "[BernoulliRBM] Iteration 3, pseudo-likelihood = -133.22, time = 0.43s\n",
      "[BernoulliRBM] Iteration 4, pseudo-likelihood = -131.60, time = 0.40s\n",
      "[BernoulliRBM] Iteration 5, pseudo-likelihood = -121.95, time = 0.49s\n",
      "[BernoulliRBM] Iteration 1, pseudo-likelihood = -198.82, time = 0.48s\n",
      "[BernoulliRBM] Iteration 2, pseudo-likelihood = -156.16, time = 0.55s\n",
      "[BernoulliRBM] Iteration 3, pseudo-likelihood = -149.89, time = 0.54s\n",
      "[BernoulliRBM] Iteration 4, pseudo-likelihood = -137.56, time = 0.49s\n",
      "[BernoulliRBM] Iteration 5, pseudo-likelihood = -139.47, time = 0.45s\n",
      "[BernoulliRBM] Iteration 1, pseudo-likelihood = -176.69, time = 0.58s\n",
      "[BernoulliRBM] Iteration 2, pseudo-likelihood = -152.62, time = 0.53s\n",
      "[BernoulliRBM] Iteration 3, pseudo-likelihood = -148.52, time = 0.52s\n",
      "[BernoulliRBM] Iteration 4, pseudo-likelihood = -128.53, time = 0.51s\n",
      "[BernoulliRBM] Iteration 5, pseudo-likelihood = -131.95, time = 0.53s\n",
      "[BernoulliRBM] Iteration 6, pseudo-likelihood = -128.12, time = 0.50s\n",
      "[BernoulliRBM] Iteration 7, pseudo-likelihood = -118.37, time = 0.52s\n",
      "[BernoulliRBM] Iteration 8, pseudo-likelihood = -114.24, time = 0.53s\n",
      "[BernoulliRBM] Iteration 9, pseudo-likelihood = -121.40, time = 0.50s\n",
      "[BernoulliRBM] Iteration 10, pseudo-likelihood = -119.11, time = 0.52s\n",
      "[BernoulliRBM] Iteration 11, pseudo-likelihood = -112.27, time = 0.50s\n",
      "[BernoulliRBM] Iteration 12, pseudo-likelihood = -118.96, time = 0.52s\n",
      "[BernoulliRBM] Iteration 13, pseudo-likelihood = -115.08, time = 0.49s\n",
      "[BernoulliRBM] Iteration 14, pseudo-likelihood = -111.01, time = 0.56s\n",
      "[BernoulliRBM] Iteration 15, pseudo-likelihood = -108.72, time = 0.61s\n",
      "[BernoulliRBM] Iteration 16, pseudo-likelihood = -105.49, time = 0.48s\n",
      "[BernoulliRBM] Iteration 17, pseudo-likelihood = -99.98, time = 0.60s\n",
      "[BernoulliRBM] Iteration 18, pseudo-likelihood = -107.47, time = 0.57s\n",
      "[BernoulliRBM] Iteration 19, pseudo-likelihood = -106.40, time = 0.55s\n",
      "[BernoulliRBM] Iteration 20, pseudo-likelihood = -104.42, time = 0.51s\n",
      "[BernoulliRBM] Iteration 1, pseudo-likelihood = -177.50, time = 0.51s\n",
      "[BernoulliRBM] Iteration 2, pseudo-likelihood = -140.30, time = 0.98s\n",
      "[BernoulliRBM] Iteration 3, pseudo-likelihood = -147.62, time = 1.24s\n",
      "[BernoulliRBM] Iteration 4, pseudo-likelihood = -140.91, time = 1.01s\n",
      "[BernoulliRBM] Iteration 5, pseudo-likelihood = -133.83, time = 0.93s\n",
      "[BernoulliRBM] Iteration 6, pseudo-likelihood = -138.72, time = 0.94s\n",
      "[BernoulliRBM] Iteration 7, pseudo-likelihood = -122.79, time = 1.08s\n",
      "[BernoulliRBM] Iteration 8, pseudo-likelihood = -118.45, time = 0.89s\n",
      "[BernoulliRBM] Iteration 9, pseudo-likelihood = -117.43, time = 1.19s\n",
      "[BernoulliRBM] Iteration 10, pseudo-likelihood = -121.79, time = 0.79s\n",
      "[BernoulliRBM] Iteration 11, pseudo-likelihood = -124.58, time = 0.74s\n",
      "[BernoulliRBM] Iteration 12, pseudo-likelihood = -121.36, time = 0.75s\n",
      "[BernoulliRBM] Iteration 13, pseudo-likelihood = -117.61, time = 0.72s\n",
      "[BernoulliRBM] Iteration 14, pseudo-likelihood = -115.11, time = 0.83s\n",
      "[BernoulliRBM] Iteration 15, pseudo-likelihood = -108.29, time = 0.90s\n",
      "[BernoulliRBM] Iteration 16, pseudo-likelihood = -111.25, time = 0.75s\n",
      "[BernoulliRBM] Iteration 17, pseudo-likelihood = -111.41, time = 0.78s\n",
      "[BernoulliRBM] Iteration 18, pseudo-likelihood = -113.95, time = 0.83s\n",
      "[BernoulliRBM] Iteration 19, pseudo-likelihood = -106.80, time = 1.52s\n",
      "[BernoulliRBM] Iteration 20, pseudo-likelihood = -104.20, time = 1.20s\n",
      "[BernoulliRBM] Iteration 1, pseudo-likelihood = -153.32, time = 2.05s\n",
      "[BernoulliRBM] Iteration 2, pseudo-likelihood = -127.80, time = 1.18s\n",
      "[BernoulliRBM] Iteration 3, pseudo-likelihood = -121.00, time = 1.14s\n",
      "[BernoulliRBM] Iteration 4, pseudo-likelihood = -113.56, time = 1.00s\n",
      "[BernoulliRBM] Iteration 5, pseudo-likelihood = -101.39, time = 0.93s\n",
      "[BernoulliRBM] Iteration 1, pseudo-likelihood = -160.96, time = 0.79s\n",
      "[BernoulliRBM] Iteration 2, pseudo-likelihood = -130.61, time = 1.05s\n",
      "[BernoulliRBM] Iteration 3, pseudo-likelihood = -122.74, time = 0.94s\n",
      "[BernoulliRBM] Iteration 4, pseudo-likelihood = -116.02, time = 1.00s\n",
      "[BernoulliRBM] Iteration 5, pseudo-likelihood = -118.12, time = 0.88s\n",
      "[BernoulliRBM] Iteration 1, pseudo-likelihood = -146.23, time = 1.11s\n",
      "[BernoulliRBM] Iteration 2, pseudo-likelihood = -133.20, time = 1.23s\n",
      "[BernoulliRBM] Iteration 3, pseudo-likelihood = -121.63, time = 1.14s\n",
      "[BernoulliRBM] Iteration 4, pseudo-likelihood = -121.88, time = 1.15s\n",
      "[BernoulliRBM] Iteration 5, pseudo-likelihood = -118.10, time = 1.08s\n",
      "[BernoulliRBM] Iteration 6, pseudo-likelihood = -105.88, time = 1.09s\n",
      "[BernoulliRBM] Iteration 7, pseudo-likelihood = -112.70, time = 1.11s\n"
     ]
    },
    {
     "name": "stdout",
     "output_type": "stream",
     "text": [
      "[BernoulliRBM] Iteration 8, pseudo-likelihood = -97.99, time = 1.26s\n",
      "[BernoulliRBM] Iteration 9, pseudo-likelihood = -96.11, time = 1.05s\n",
      "[BernoulliRBM] Iteration 10, pseudo-likelihood = -93.08, time = 1.24s\n",
      "[BernoulliRBM] Iteration 11, pseudo-likelihood = -95.11, time = 1.16s\n",
      "[BernoulliRBM] Iteration 12, pseudo-likelihood = -87.67, time = 1.34s\n",
      "[BernoulliRBM] Iteration 13, pseudo-likelihood = -98.47, time = 1.57s\n",
      "[BernoulliRBM] Iteration 14, pseudo-likelihood = -89.54, time = 1.47s\n",
      "[BernoulliRBM] Iteration 15, pseudo-likelihood = -97.68, time = 1.32s\n",
      "[BernoulliRBM] Iteration 16, pseudo-likelihood = -87.22, time = 1.18s\n",
      "[BernoulliRBM] Iteration 17, pseudo-likelihood = -96.23, time = 1.09s\n",
      "[BernoulliRBM] Iteration 18, pseudo-likelihood = -90.28, time = 0.93s\n",
      "[BernoulliRBM] Iteration 19, pseudo-likelihood = -91.44, time = 1.08s\n",
      "[BernoulliRBM] Iteration 20, pseudo-likelihood = -90.46, time = 1.59s\n",
      "[BernoulliRBM] Iteration 1, pseudo-likelihood = -143.96, time = 0.95s\n",
      "[BernoulliRBM] Iteration 2, pseudo-likelihood = -126.83, time = 0.97s\n",
      "[BernoulliRBM] Iteration 3, pseudo-likelihood = -125.24, time = 0.79s\n",
      "[BernoulliRBM] Iteration 4, pseudo-likelihood = -119.81, time = 0.79s\n",
      "[BernoulliRBM] Iteration 5, pseudo-likelihood = -114.68, time = 1.10s\n",
      "[BernoulliRBM] Iteration 6, pseudo-likelihood = -105.24, time = 0.96s\n",
      "[BernoulliRBM] Iteration 7, pseudo-likelihood = -99.31, time = 0.95s\n",
      "[BernoulliRBM] Iteration 8, pseudo-likelihood = -104.13, time = 1.09s\n",
      "[BernoulliRBM] Iteration 9, pseudo-likelihood = -102.15, time = 0.89s\n",
      "[BernoulliRBM] Iteration 10, pseudo-likelihood = -97.05, time = 0.88s\n",
      "[BernoulliRBM] Iteration 11, pseudo-likelihood = -98.38, time = 0.90s\n",
      "[BernoulliRBM] Iteration 12, pseudo-likelihood = -100.43, time = 0.85s\n",
      "[BernoulliRBM] Iteration 13, pseudo-likelihood = -98.55, time = 0.86s\n",
      "[BernoulliRBM] Iteration 14, pseudo-likelihood = -96.49, time = 0.86s\n",
      "[BernoulliRBM] Iteration 15, pseudo-likelihood = -95.41, time = 0.84s\n",
      "[BernoulliRBM] Iteration 16, pseudo-likelihood = -96.38, time = 0.89s\n",
      "[BernoulliRBM] Iteration 17, pseudo-likelihood = -99.04, time = 0.94s\n",
      "[BernoulliRBM] Iteration 18, pseudo-likelihood = -100.11, time = 0.86s\n",
      "[BernoulliRBM] Iteration 19, pseudo-likelihood = -89.96, time = 0.68s\n",
      "[BernoulliRBM] Iteration 20, pseudo-likelihood = -93.96, time = 0.76s\n",
      "[BernoulliRBM] Iteration 1, pseudo-likelihood = -148.18, time = 1.29s\n",
      "[BernoulliRBM] Iteration 2, pseudo-likelihood = -122.75, time = 0.97s\n",
      "[BernoulliRBM] Iteration 3, pseudo-likelihood = -115.86, time = 1.02s\n",
      "[BernoulliRBM] Iteration 4, pseudo-likelihood = -109.28, time = 1.00s\n",
      "[BernoulliRBM] Iteration 5, pseudo-likelihood = -100.56, time = 1.23s\n",
      "[BernoulliRBM] Iteration 1, pseudo-likelihood = -143.66, time = 0.92s\n",
      "[BernoulliRBM] Iteration 2, pseudo-likelihood = -130.75, time = 1.01s\n",
      "[BernoulliRBM] Iteration 3, pseudo-likelihood = -115.72, time = 0.99s\n",
      "[BernoulliRBM] Iteration 4, pseudo-likelihood = -121.10, time = 1.02s\n",
      "[BernoulliRBM] Iteration 5, pseudo-likelihood = -107.05, time = 0.95s\n",
      "[BernoulliRBM] Iteration 1, pseudo-likelihood = -145.16, time = 0.75s\n",
      "[BernoulliRBM] Iteration 2, pseudo-likelihood = -123.96, time = 0.88s\n",
      "[BernoulliRBM] Iteration 3, pseudo-likelihood = -114.64, time = 1.01s\n",
      "[BernoulliRBM] Iteration 4, pseudo-likelihood = -105.83, time = 0.89s\n",
      "[BernoulliRBM] Iteration 5, pseudo-likelihood = -96.94, time = 0.87s\n",
      "[BernoulliRBM] Iteration 6, pseudo-likelihood = -93.24, time = 0.87s\n",
      "[BernoulliRBM] Iteration 7, pseudo-likelihood = -96.14, time = 0.88s\n",
      "[BernoulliRBM] Iteration 8, pseudo-likelihood = -85.30, time = 0.88s\n",
      "[BernoulliRBM] Iteration 9, pseudo-likelihood = -92.02, time = 0.85s\n",
      "[BernoulliRBM] Iteration 10, pseudo-likelihood = -96.02, time = 0.86s\n",
      "[BernoulliRBM] Iteration 11, pseudo-likelihood = -88.70, time = 0.88s\n",
      "[BernoulliRBM] Iteration 12, pseudo-likelihood = -88.00, time = 0.92s\n",
      "[BernoulliRBM] Iteration 13, pseudo-likelihood = -84.38, time = 0.86s\n",
      "[BernoulliRBM] Iteration 14, pseudo-likelihood = -84.81, time = 0.88s\n",
      "[BernoulliRBM] Iteration 15, pseudo-likelihood = -79.05, time = 0.90s\n",
      "[BernoulliRBM] Iteration 16, pseudo-likelihood = -84.28, time = 0.92s\n",
      "[BernoulliRBM] Iteration 17, pseudo-likelihood = -83.37, time = 0.89s\n",
      "[BernoulliRBM] Iteration 18, pseudo-likelihood = -83.41, time = 0.87s\n",
      "[BernoulliRBM] Iteration 19, pseudo-likelihood = -84.69, time = 0.87s\n",
      "[BernoulliRBM] Iteration 20, pseudo-likelihood = -85.88, time = 0.88s\n",
      "[BernoulliRBM] Iteration 1, pseudo-likelihood = -160.28, time = 0.79s\n",
      "[BernoulliRBM] Iteration 2, pseudo-likelihood = -119.21, time = 0.88s\n",
      "[BernoulliRBM] Iteration 3, pseudo-likelihood = -108.56, time = 0.86s\n",
      "[BernoulliRBM] Iteration 4, pseudo-likelihood = -107.46, time = 0.89s\n",
      "[BernoulliRBM] Iteration 5, pseudo-likelihood = -112.10, time = 0.89s\n",
      "[BernoulliRBM] Iteration 6, pseudo-likelihood = -110.77, time = 0.89s\n",
      "[BernoulliRBM] Iteration 7, pseudo-likelihood = -104.00, time = 0.88s\n",
      "[BernoulliRBM] Iteration 8, pseudo-likelihood = -102.43, time = 0.92s\n",
      "[BernoulliRBM] Iteration 9, pseudo-likelihood = -92.63, time = 0.90s\n",
      "[BernoulliRBM] Iteration 10, pseudo-likelihood = -96.79, time = 1.23s\n",
      "[BernoulliRBM] Iteration 11, pseudo-likelihood = -91.73, time = 1.44s\n",
      "[BernoulliRBM] Iteration 12, pseudo-likelihood = -92.46, time = 1.34s\n",
      "[BernoulliRBM] Iteration 13, pseudo-likelihood = -92.43, time = 1.12s\n",
      "[BernoulliRBM] Iteration 14, pseudo-likelihood = -99.15, time = 1.18s\n",
      "[BernoulliRBM] Iteration 15, pseudo-likelihood = -84.24, time = 1.11s\n",
      "[BernoulliRBM] Iteration 16, pseudo-likelihood = -91.79, time = 1.14s\n",
      "[BernoulliRBM] Iteration 17, pseudo-likelihood = -89.87, time = 1.14s\n",
      "[BernoulliRBM] Iteration 18, pseudo-likelihood = -89.79, time = 1.18s\n",
      "[BernoulliRBM] Iteration 19, pseudo-likelihood = -81.93, time = 1.13s\n",
      "[BernoulliRBM] Iteration 20, pseudo-likelihood = -91.20, time = 1.16s\n",
      "[BernoulliRBM] Iteration 1, pseudo-likelihood = -121.19, time = 2.01s\n",
      "[BernoulliRBM] Iteration 2, pseudo-likelihood = -111.23, time = 2.57s\n",
      "[BernoulliRBM] Iteration 3, pseudo-likelihood = -94.52, time = 2.30s\n",
      "[BernoulliRBM] Iteration 4, pseudo-likelihood = -94.47, time = 2.39s\n",
      "[BernoulliRBM] Iteration 5, pseudo-likelihood = -90.28, time = 2.34s\n",
      "[BernoulliRBM] Iteration 6, pseudo-likelihood = -91.48, time = 2.86s\n",
      "[BernoulliRBM] Iteration 7, pseudo-likelihood = -87.04, time = 2.57s\n",
      "[BernoulliRBM] Iteration 8, pseudo-likelihood = -84.83, time = 2.71s\n",
      "[BernoulliRBM] Iteration 9, pseudo-likelihood = -81.79, time = 3.08s\n",
      "[BernoulliRBM] Iteration 10, pseudo-likelihood = -84.13, time = 2.34s\n",
      "[BernoulliRBM] Iteration 11, pseudo-likelihood = -80.64, time = 2.41s\n",
      "[BernoulliRBM] Iteration 12, pseudo-likelihood = -82.45, time = 2.23s\n",
      "[BernoulliRBM] Iteration 13, pseudo-likelihood = -78.85, time = 2.07s\n",
      "[BernoulliRBM] Iteration 14, pseudo-likelihood = -82.29, time = 2.02s\n",
      "[BernoulliRBM] Iteration 15, pseudo-likelihood = -79.52, time = 2.23s\n",
      "[BernoulliRBM] Iteration 16, pseudo-likelihood = -79.92, time = 1.79s\n",
      "[BernoulliRBM] Iteration 17, pseudo-likelihood = -83.00, time = 1.77s\n",
      "[BernoulliRBM] Iteration 18, pseudo-likelihood = -80.69, time = 1.85s\n",
      "[BernoulliRBM] Iteration 19, pseudo-likelihood = -76.76, time = 1.90s\n",
      "[BernoulliRBM] Iteration 20, pseudo-likelihood = -77.58, time = 2.20s\n"
     ]
    },
    {
     "data": {
      "text/plain": [
       "{'rbm__n_components': 150, 'rbm__n_iter': 20}"
      ]
     },
     "execution_count": 40,
     "metadata": {},
     "output_type": "execute_result"
    }
   ],
   "source": [
    "param_grid = [{'rbm__n_components' : [5, 50, 100,150],\n",
    "               'rbm__n_iter': [5, 20]}]\n",
    "\n",
    "grid_search = GridSearchCV(rbm_features_classifier, param_grid, cv = 2)\n",
    "\n",
    "grid_search.fit(x_train, y_train)\n",
    "\n",
    "grid_search.best_params_"
   ]
  },
  {
   "cell_type": "code",
   "execution_count": 42,
   "metadata": {},
   "outputs": [
    {
     "name": "stdout",
     "output_type": "stream",
     "text": [
      "parameters:  {'rbm__n_components': 5, 'rbm__n_iter': 5}\n",
      "mean test score:  0.11325\n",
      "rank:  7\n",
      "\n",
      "parameters:  {'rbm__n_components': 5, 'rbm__n_iter': 20}\n",
      "mean test score:  0.11325\n",
      "rank:  7\n",
      "\n",
      "parameters:  {'rbm__n_components': 50, 'rbm__n_iter': 5}\n",
      "mean test score:  0.843125\n",
      "rank:  6\n",
      "\n",
      "parameters:  {'rbm__n_components': 50, 'rbm__n_iter': 20}\n",
      "mean test score:  0.8745\n",
      "rank:  5\n",
      "\n",
      "parameters:  {'rbm__n_components': 100, 'rbm__n_iter': 5}\n",
      "mean test score:  0.899125\n",
      "rank:  4\n",
      "\n",
      "parameters:  {'rbm__n_components': 100, 'rbm__n_iter': 20}\n",
      "mean test score:  0.912625\n",
      "rank:  3\n",
      "\n",
      "parameters:  {'rbm__n_components': 150, 'rbm__n_iter': 5}\n",
      "mean test score:  0.919\n",
      "rank:  2\n",
      "\n",
      "parameters:  {'rbm__n_components': 150, 'rbm__n_iter': 20}\n",
      "mean test score:  0.922875\n",
      "rank:  1\n",
      "\n"
     ]
    }
   ],
   "source": [
    "for i in range(8):\n",
    "    print('parameters: ', grid_search.cv_results_['params'][i])\n",
    "    print('mean test score: ', grid_search.cv_results_['mean_test_score'][i])\n",
    "    print('rank: ', grid_search.cv_results_['rank_test_score'][i])\n",
    "    print()"
   ]
  },
  {
   "cell_type": "code",
   "execution_count": null,
   "metadata": {},
   "outputs": [],
   "source": []
  }
 ],
 "metadata": {
  "kernelspec": {
   "display_name": "Python 3",
   "language": "python",
   "name": "python3"
  },
  "language_info": {
   "codemirror_mode": {
    "name": "ipython",
    "version": 3
   },
   "file_extension": ".py",
   "mimetype": "text/x-python",
   "name": "python",
   "nbconvert_exporter": "python",
   "pygments_lexer": "ipython3",
   "version": "3.8.5"
  }
 },
 "nbformat": 4,
 "nbformat_minor": 4
}
