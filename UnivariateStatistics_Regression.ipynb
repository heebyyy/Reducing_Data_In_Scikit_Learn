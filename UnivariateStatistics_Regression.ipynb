{
 "cells": [
  {
   "cell_type": "code",
   "execution_count": 1,
   "metadata": {},
   "outputs": [],
   "source": [
    "import pandas as pd\n",
    "import numpy as np\n",
    "import matplotlib.pyplot as plt\n",
    "import pylab\n",
    "\n",
    "import statsmodels.api as sm\n",
    "\n",
    "from sklearn.linear_model import LinearRegression\n",
    "\n",
    "from sklearn.model_selection import train_test_split\n",
    "\n",
    "from sklearn.metrics import r2_score"
   ]
  },
  {
   "cell_type": "code",
   "execution_count": 2,
   "metadata": {},
   "outputs": [
    {
     "data": {
      "text/html": [
       "<div>\n",
       "<style scoped>\n",
       "    .dataframe tbody tr th:only-of-type {\n",
       "        vertical-align: middle;\n",
       "    }\n",
       "\n",
       "    .dataframe tbody tr th {\n",
       "        vertical-align: top;\n",
       "    }\n",
       "\n",
       "    .dataframe thead th {\n",
       "        text-align: right;\n",
       "    }\n",
       "</style>\n",
       "<table border=\"1\" class=\"dataframe\">\n",
       "  <thead>\n",
       "    <tr style=\"text-align: right;\">\n",
       "      <th></th>\n",
       "      <th>price</th>\n",
       "      <th>bedrooms</th>\n",
       "      <th>bathrooms</th>\n",
       "      <th>sqft_living</th>\n",
       "      <th>sqft_lot</th>\n",
       "      <th>floors</th>\n",
       "      <th>waterfront</th>\n",
       "      <th>view</th>\n",
       "      <th>condition</th>\n",
       "      <th>grade</th>\n",
       "      <th>sqft_above</th>\n",
       "      <th>sqft_basement</th>\n",
       "      <th>lat</th>\n",
       "      <th>long</th>\n",
       "      <th>sqft_living15</th>\n",
       "      <th>sqft_lot15</th>\n",
       "      <th>age</th>\n",
       "      <th>renovated</th>\n",
       "    </tr>\n",
       "  </thead>\n",
       "  <tbody>\n",
       "    <tr>\n",
       "      <th>0</th>\n",
       "      <td>221900.0</td>\n",
       "      <td>3.0</td>\n",
       "      <td>1.00</td>\n",
       "      <td>1180.0</td>\n",
       "      <td>5650.0</td>\n",
       "      <td>1.0</td>\n",
       "      <td>0.0</td>\n",
       "      <td>0.0</td>\n",
       "      <td>3.0</td>\n",
       "      <td>7.0</td>\n",
       "      <td>1180.0</td>\n",
       "      <td>0.0</td>\n",
       "      <td>47.5112</td>\n",
       "      <td>-122.257</td>\n",
       "      <td>1340.0</td>\n",
       "      <td>5650.0</td>\n",
       "      <td>66.0</td>\n",
       "      <td>0.0</td>\n",
       "    </tr>\n",
       "    <tr>\n",
       "      <th>1</th>\n",
       "      <td>538000.0</td>\n",
       "      <td>3.0</td>\n",
       "      <td>2.25</td>\n",
       "      <td>2570.0</td>\n",
       "      <td>7242.0</td>\n",
       "      <td>2.0</td>\n",
       "      <td>0.0</td>\n",
       "      <td>0.0</td>\n",
       "      <td>3.0</td>\n",
       "      <td>7.0</td>\n",
       "      <td>2170.0</td>\n",
       "      <td>400.0</td>\n",
       "      <td>47.7210</td>\n",
       "      <td>-122.319</td>\n",
       "      <td>1690.0</td>\n",
       "      <td>7639.0</td>\n",
       "      <td>70.0</td>\n",
       "      <td>1.0</td>\n",
       "    </tr>\n",
       "    <tr>\n",
       "      <th>2</th>\n",
       "      <td>180000.0</td>\n",
       "      <td>2.0</td>\n",
       "      <td>1.00</td>\n",
       "      <td>770.0</td>\n",
       "      <td>10000.0</td>\n",
       "      <td>1.0</td>\n",
       "      <td>0.0</td>\n",
       "      <td>0.0</td>\n",
       "      <td>3.0</td>\n",
       "      <td>6.0</td>\n",
       "      <td>770.0</td>\n",
       "      <td>0.0</td>\n",
       "      <td>47.7379</td>\n",
       "      <td>-122.233</td>\n",
       "      <td>2720.0</td>\n",
       "      <td>8062.0</td>\n",
       "      <td>88.0</td>\n",
       "      <td>0.0</td>\n",
       "    </tr>\n",
       "    <tr>\n",
       "      <th>3</th>\n",
       "      <td>604000.0</td>\n",
       "      <td>4.0</td>\n",
       "      <td>3.00</td>\n",
       "      <td>1960.0</td>\n",
       "      <td>5000.0</td>\n",
       "      <td>1.0</td>\n",
       "      <td>0.0</td>\n",
       "      <td>0.0</td>\n",
       "      <td>5.0</td>\n",
       "      <td>7.0</td>\n",
       "      <td>1050.0</td>\n",
       "      <td>910.0</td>\n",
       "      <td>47.5208</td>\n",
       "      <td>-122.393</td>\n",
       "      <td>1360.0</td>\n",
       "      <td>5000.0</td>\n",
       "      <td>56.0</td>\n",
       "      <td>0.0</td>\n",
       "    </tr>\n",
       "    <tr>\n",
       "      <th>4</th>\n",
       "      <td>510000.0</td>\n",
       "      <td>3.0</td>\n",
       "      <td>2.00</td>\n",
       "      <td>1680.0</td>\n",
       "      <td>8080.0</td>\n",
       "      <td>1.0</td>\n",
       "      <td>0.0</td>\n",
       "      <td>0.0</td>\n",
       "      <td>3.0</td>\n",
       "      <td>8.0</td>\n",
       "      <td>1680.0</td>\n",
       "      <td>0.0</td>\n",
       "      <td>47.6168</td>\n",
       "      <td>-122.045</td>\n",
       "      <td>1800.0</td>\n",
       "      <td>7503.0</td>\n",
       "      <td>34.0</td>\n",
       "      <td>0.0</td>\n",
       "    </tr>\n",
       "  </tbody>\n",
       "</table>\n",
       "</div>"
      ],
      "text/plain": [
       "      price  bedrooms  bathrooms  sqft_living  sqft_lot  floors  waterfront  \\\n",
       "0  221900.0       3.0       1.00       1180.0    5650.0     1.0         0.0   \n",
       "1  538000.0       3.0       2.25       2570.0    7242.0     2.0         0.0   \n",
       "2  180000.0       2.0       1.00        770.0   10000.0     1.0         0.0   \n",
       "3  604000.0       4.0       3.00       1960.0    5000.0     1.0         0.0   \n",
       "4  510000.0       3.0       2.00       1680.0    8080.0     1.0         0.0   \n",
       "\n",
       "   view  condition  grade  sqft_above  sqft_basement      lat     long  \\\n",
       "0   0.0        3.0    7.0      1180.0            0.0  47.5112 -122.257   \n",
       "1   0.0        3.0    7.0      2170.0          400.0  47.7210 -122.319   \n",
       "2   0.0        3.0    6.0       770.0            0.0  47.7379 -122.233   \n",
       "3   0.0        5.0    7.0      1050.0          910.0  47.5208 -122.393   \n",
       "4   0.0        3.0    8.0      1680.0            0.0  47.6168 -122.045   \n",
       "\n",
       "   sqft_living15  sqft_lot15   age  renovated  \n",
       "0         1340.0      5650.0  66.0        0.0  \n",
       "1         1690.0      7639.0  70.0        1.0  \n",
       "2         2720.0      8062.0  88.0        0.0  \n",
       "3         1360.0      5000.0  56.0        0.0  \n",
       "4         1800.0      7503.0  34.0        0.0  "
      ]
     },
     "execution_count": 2,
     "metadata": {},
     "output_type": "execute_result"
    }
   ],
   "source": [
    "housesale_df = pd.read_csv('dataset/kc_house_data_preprocessed.csv', dtype = float)\n",
    "\n",
    "housesale_df.head()"
   ]
  },
  {
   "cell_type": "code",
   "execution_count": 3,
   "metadata": {},
   "outputs": [
    {
     "data": {
      "text/plain": [
       "(21613, 17)"
      ]
     },
     "execution_count": 3,
     "metadata": {},
     "output_type": "execute_result"
    }
   ],
   "source": [
    "x = housesale_df.drop('price', axis = 1)\n",
    "y = housesale_df['price']\n",
    "\n",
    "x.shape"
   ]
  },
  {
   "cell_type": "code",
   "execution_count": 4,
   "metadata": {},
   "outputs": [],
   "source": [
    "from sklearn.feature_selection import f_regression, SelectKBest\n",
    "\n",
    "select_features = SelectKBest(f_regression, k = 3)"
   ]
  },
  {
   "cell_type": "code",
   "execution_count": 5,
   "metadata": {},
   "outputs": [
    {
     "data": {
      "text/plain": [
       "(21613, 3)"
      ]
     },
     "execution_count": 5,
     "metadata": {},
     "output_type": "execute_result"
    }
   ],
   "source": [
    "x_new = select_features.fit_transform(x, y)\n",
    "\n",
    "x_new.shape"
   ]
  },
  {
   "cell_type": "code",
   "execution_count": 6,
   "metadata": {},
   "outputs": [
    {
     "data": {
      "text/html": [
       "<div>\n",
       "<style scoped>\n",
       "    .dataframe tbody tr th:only-of-type {\n",
       "        vertical-align: middle;\n",
       "    }\n",
       "\n",
       "    .dataframe tbody tr th {\n",
       "        vertical-align: top;\n",
       "    }\n",
       "\n",
       "    .dataframe thead th {\n",
       "        text-align: right;\n",
       "    }\n",
       "</style>\n",
       "<table border=\"1\" class=\"dataframe\">\n",
       "  <thead>\n",
       "    <tr style=\"text-align: right;\">\n",
       "      <th></th>\n",
       "      <th>0</th>\n",
       "      <th>1</th>\n",
       "      <th>2</th>\n",
       "    </tr>\n",
       "  </thead>\n",
       "  <tbody>\n",
       "    <tr>\n",
       "      <th>0</th>\n",
       "      <td>1180.0</td>\n",
       "      <td>7.0</td>\n",
       "      <td>1180.0</td>\n",
       "    </tr>\n",
       "    <tr>\n",
       "      <th>1</th>\n",
       "      <td>2570.0</td>\n",
       "      <td>7.0</td>\n",
       "      <td>2170.0</td>\n",
       "    </tr>\n",
       "    <tr>\n",
       "      <th>2</th>\n",
       "      <td>770.0</td>\n",
       "      <td>6.0</td>\n",
       "      <td>770.0</td>\n",
       "    </tr>\n",
       "    <tr>\n",
       "      <th>3</th>\n",
       "      <td>1960.0</td>\n",
       "      <td>7.0</td>\n",
       "      <td>1050.0</td>\n",
       "    </tr>\n",
       "    <tr>\n",
       "      <th>4</th>\n",
       "      <td>1680.0</td>\n",
       "      <td>8.0</td>\n",
       "      <td>1680.0</td>\n",
       "    </tr>\n",
       "  </tbody>\n",
       "</table>\n",
       "</div>"
      ],
      "text/plain": [
       "        0    1       2\n",
       "0  1180.0  7.0  1180.0\n",
       "1  2570.0  7.0  2170.0\n",
       "2   770.0  6.0   770.0\n",
       "3  1960.0  7.0  1050.0\n",
       "4  1680.0  8.0  1680.0"
      ]
     },
     "execution_count": 6,
     "metadata": {},
     "output_type": "execute_result"
    }
   ],
   "source": [
    "x_new = pd.DataFrame(x_new)\n",
    "x_new.head()"
   ]
  },
  {
   "cell_type": "code",
   "execution_count": 7,
   "metadata": {},
   "outputs": [
    {
     "data": {
      "text/plain": [
       "['sqft_living', 'grade', 'sqft_above']"
      ]
     },
     "execution_count": 7,
     "metadata": {},
     "output_type": "execute_result"
    }
   ],
   "source": [
    "selected_features = []\n",
    "\n",
    "for i in range(len(x_new.columns)):\n",
    "    for j in range(len(x.columns)):\n",
    "        if(x_new.iloc[:, i].equals(x.iloc[:, j])):\n",
    "            selected_features.append(x.columns[j])\n",
    "            \n",
    "selected_features"
   ]
  },
  {
   "cell_type": "code",
   "execution_count": 8,
   "metadata": {},
   "outputs": [
    {
     "data": {
      "text/plain": [
       "{'age',\n",
       " 'bathrooms',\n",
       " 'bedrooms',\n",
       " 'condition',\n",
       " 'floors',\n",
       " 'lat',\n",
       " 'long',\n",
       " 'renovated',\n",
       " 'sqft_basement',\n",
       " 'sqft_living15',\n",
       " 'sqft_lot',\n",
       " 'sqft_lot15',\n",
       " 'view',\n",
       " 'waterfront'}"
      ]
     },
     "execution_count": 8,
     "metadata": {},
     "output_type": "execute_result"
    }
   ],
   "source": [
    "rejected_features = set(list(x)) - set(selected_features)\n",
    "\n",
    "rejected_features"
   ]
  },
  {
   "cell_type": "code",
   "execution_count": 9,
   "metadata": {},
   "outputs": [
    {
     "data": {
      "text/plain": [
       "((17290, 3), (17290,))"
      ]
     },
     "execution_count": 9,
     "metadata": {},
     "output_type": "execute_result"
    }
   ],
   "source": [
    "x_train, x_test, y_train, y_test = train_test_split(x_new, y, test_size = 0.2)\n",
    "\n",
    "x_train.shape, y_train.shape"
   ]
  },
  {
   "cell_type": "code",
   "execution_count": 10,
   "metadata": {},
   "outputs": [],
   "source": [
    "model = sm.OLS(y_train, x_train)"
   ]
  },
  {
   "cell_type": "code",
   "execution_count": 11,
   "metadata": {},
   "outputs": [],
   "source": [
    "result = model.fit()"
   ]
  },
  {
   "cell_type": "code",
   "execution_count": 12,
   "metadata": {},
   "outputs": [
    {
     "name": "stdout",
     "output_type": "stream",
     "text": [
      "                                 OLS Regression Results                                \n",
      "=======================================================================================\n",
      "Dep. Variable:                  price   R-squared (uncentered):                   0.841\n",
      "Model:                            OLS   Adj. R-squared (uncentered):              0.841\n",
      "Method:                 Least Squares   F-statistic:                          3.051e+04\n",
      "Date:                Sun, 31 Jan 2021   Prob (F-statistic):                        0.00\n",
      "Time:                        01:49:07   Log-Likelihood:                     -2.4010e+05\n",
      "No. Observations:               17290   AIC:                                  4.802e+05\n",
      "Df Residuals:                   17287   BIC:                                  4.802e+05\n",
      "Df Model:                           3                                                  \n",
      "Covariance Type:            nonrobust                                                  \n",
      "==============================================================================\n",
      "                 coef    std err          t      P>|t|      [0.025      0.975]\n",
      "------------------------------------------------------------------------------\n",
      "0            272.0781      4.571     59.521      0.000     263.118     281.038\n",
      "1           5045.6817    843.487      5.982      0.000    3392.361    6699.002\n",
      "2            -30.3339      5.032     -6.029      0.000     -40.197     -20.471\n",
      "==============================================================================\n",
      "Omnibus:                    12393.449   Durbin-Watson:                   2.013\n",
      "Prob(Omnibus):                  0.000   Jarque-Bera (JB):           422325.484\n",
      "Skew:                           3.047   Prob(JB):                         0.00\n",
      "Kurtosis:                      26.433   Cond. No.                     1.28e+03\n",
      "==============================================================================\n",
      "\n",
      "Warnings:\n",
      "[1] Standard Errors assume that the covariance matrix of the errors is correctly specified.\n",
      "[2] The condition number is large, 1.28e+03. This might indicate that there are\n",
      "strong multicollinearity or other numerical problems.\n"
     ]
    }
   ],
   "source": [
    "print(result.summary())"
   ]
  },
  {
   "cell_type": "code",
   "execution_count": 13,
   "metadata": {},
   "outputs": [
    {
     "data": {
      "text/plain": [
       "['bedrooms',\n",
       " 'bathrooms',\n",
       " 'sqft_living',\n",
       " 'sqft_lot',\n",
       " 'floors',\n",
       " 'waterfront',\n",
       " 'view',\n",
       " 'condition',\n",
       " 'grade',\n",
       " 'sqft_above',\n",
       " 'sqft_basement',\n",
       " 'lat',\n",
       " 'long',\n",
       " 'sqft_living15',\n",
       " 'sqft_lot15',\n",
       " 'age',\n",
       " 'renovated']"
      ]
     },
     "execution_count": 13,
     "metadata": {},
     "output_type": "execute_result"
    }
   ],
   "source": [
    "FEATURES = list(housesale_df.columns[1:])\n",
    "FEATURES"
   ]
  },
  {
   "cell_type": "code",
   "execution_count": 14,
   "metadata": {},
   "outputs": [],
   "source": [
    "def build_model(regression_fn, target, features, dataset, preprocess_fn, *hyperparameters):\n",
    "    \n",
    "    x = dataset[features]\n",
    "    y = dataset[target]\n",
    "    \n",
    "    x = preprocess_fn(x, y, *hyperparameters)\n",
    "    \n",
    "    x_train, x_test, y_train, y_test = train_test_split(x, y, test_size = 0.2)\n",
    "    \n",
    "    model = regression_fn(x_train, y_train)\n",
    "    \n",
    "    y_pred = model.predict(x_test)\n",
    "    \n",
    "    return {'x_train' : x_train,\n",
    "            'x_test': x_test,\n",
    "            'y_train': y_train,\n",
    "            'y_test' : y_test,\n",
    "            'y_pred' : y_pred,\n",
    "            'model' : model\n",
    "         }"
   ]
  },
  {
   "cell_type": "code",
   "execution_count": 15,
   "metadata": {},
   "outputs": [],
   "source": [
    "def compare_results(result_dict):\n",
    "    \n",
    "    for key in result_dict:\n",
    "        print('Test: ', key)\n",
    "        print('R-squared', result_dict[key]['rsquared'])\n",
    "        print('Adjusted R-Square', result_dict[key]['adj_rsquared'])\n",
    "        print()\n",
    "        \n",
    "    n_components = list(range(1, 18))\n",
    "    reg_score = [result_dict[key]['adj_rsquared'] for key in result_dict]\n",
    "    \n",
    "    plt.figure(figsize = (10, 6))\n",
    "    plt.plot(n_components, reg_score)\n",
    "    \n",
    "    pylab.ylim([0, 1])\n",
    "    \n",
    "    plt.xlabel('n_components')\n",
    "    plt.ylabel('adj_rsquared')"
   ]
  },
  {
   "cell_type": "code",
   "execution_count": 16,
   "metadata": {},
   "outputs": [],
   "source": [
    "def get_model_scores(model_params):\n",
    "    \n",
    "    result_dict = {}\n",
    "    \n",
    "    for key in model_params:\n",
    "        result_dict[key] = {\n",
    "                            'rsquared' : model_params[key]['model'].rsquared,\n",
    "                            'adj_rsquared' : model_params[key]['model'].rsquared_adj\n",
    "                            }\n",
    "        \n",
    "    compare_results(result_dict)"
   ]
  },
  {
   "cell_type": "code",
   "execution_count": 17,
   "metadata": {},
   "outputs": [],
   "source": [
    "def ols_reg(x_train, y_train):\n",
    "    \n",
    "    ols = sm.OLS(y_train, x_train)\n",
    "    model = ols.fit()\n",
    "    \n",
    "    return model"
   ]
  },
  {
   "cell_type": "code",
   "execution_count": 18,
   "metadata": {},
   "outputs": [],
   "source": [
    "def apply_f_regression(x, y, k, add_constant = False):\n",
    "    \n",
    "    select_features = SelectKBest(f_regression, k = k)\n",
    "    x_new = select_features.fit_transform(x, y)\n",
    "    \n",
    "    if add_constant is True:\n",
    "        x_new = sm.add_constant(x_new)\n",
    "        \n",
    "    return pd.DataFrame(x_new)"
   ]
  },
  {
   "cell_type": "code",
   "execution_count": 19,
   "metadata": {},
   "outputs": [],
   "source": [
    "model_params = {}\n",
    "\n",
    "for i in range(1, 18):\n",
    "    model_params['f_regression-k:' + str(i)] = build_model(ols_reg, 'price', FEATURES, housesale_df,\n",
    "                                                          apply_f_regression, i, True)"
   ]
  },
  {
   "cell_type": "code",
   "execution_count": 20,
   "metadata": {},
   "outputs": [
    {
     "name": "stdout",
     "output_type": "stream",
     "text": [
      "Test:  f_regression-k:1\n",
      "R-squared 0.49370056542388874\n",
      "Adjusted R-Square 0.4936712792465069\n",
      "\n",
      "Test:  f_regression-k:2\n",
      "R-squared 0.5372956050429035\n",
      "Adjusted R-Square 0.5372420729789298\n",
      "\n",
      "Test:  f_regression-k:3\n",
      "R-squared 0.5399532580652521\n",
      "Adjusted R-Square 0.5398734165619659\n",
      "\n",
      "Test:  f_regression-k:4\n",
      "R-squared 0.5423259067233739\n",
      "Adjusted R-Square 0.5422199942921846\n",
      "\n",
      "Test:  f_regression-k:5\n",
      "R-squared 0.545780191227853\n",
      "Adjusted R-Square 0.5456487923014552\n",
      "\n",
      "Test:  f_regression-k:6\n",
      "R-squared 0.5769943977624539\n",
      "Adjusted R-Square 0.576847546312276\n",
      "\n",
      "Test:  f_regression-k:7\n",
      "R-squared 0.5745112514698207\n",
      "Adjusted R-Square 0.574363537965731\n",
      "\n",
      "Test:  f_regression-k:8\n",
      "R-squared 0.5758475533546186\n",
      "Adjusted R-Square 0.5756757522247427\n",
      "\n",
      "Test:  f_regression-k:9\n",
      "R-squared 0.6415197729884385\n",
      "Adjusted R-Square 0.6413538195241661\n",
      "\n",
      "Test:  f_regression-k:10\n",
      "R-squared 0.6614723581875954\n",
      "Adjusted R-Square 0.6612960417074848\n",
      "\n",
      "Test:  f_regression-k:11\n",
      "R-squared 0.656462794739937\n",
      "Adjusted R-Square 0.6562639769812356\n",
      "\n",
      "Test:  f_regression-k:12\n",
      "R-squared 0.6596068945490807\n",
      "Adjusted R-Square 0.6593901840409224\n",
      "\n",
      "Test:  f_regression-k:13\n",
      "R-squared 0.6637726725803508\n",
      "Adjusted R-Square 0.6635391408370483\n",
      "\n",
      "Test:  f_regression-k:14\n",
      "R-squared 0.6617776863455347\n",
      "Adjusted R-Square 0.6615231777742503\n",
      "\n",
      "Test:  f_regression-k:15\n",
      "R-squared 0.6878666588343985\n",
      "Adjusted R-Square 0.6876136998314277\n",
      "\n",
      "Test:  f_regression-k:16\n",
      "R-squared 0.6911756266128863\n",
      "Adjusted R-Square 0.6909074567853533\n",
      "\n",
      "Test:  f_regression-k:17\n",
      "R-squared 0.6955802320598389\n",
      "Adjusted R-Square 0.6952982476745531\n",
      "\n"
     ]
    },
    {
     "data": {
      "image/png": "[encoded data removed]",
      "text/plain": [
       "<Figure size 720x432 with 1 Axes>"
      ]
     },
     "metadata": {
      "needs_background": "light"
     },
     "output_type": "display_data"
    }
   ],
   "source": [
    "get_model_scores(model_params)"
   ]
  },
  {
   "cell_type": "code",
   "execution_count": 21,
   "metadata": {},
   "outputs": [],
   "source": [
    "def linear_reg(x_train, y_train):\n",
    "    \n",
    "    model = LinearRegression().fit(x_train, y_train)\n",
    "    \n",
    "    return model"
   ]
  },
  {
   "cell_type": "code",
   "execution_count": 22,
   "metadata": {},
   "outputs": [],
   "source": [
    "sklearn_model = {}\n",
    "sklearn_model['f_regression'] = build_model(linear_reg, 'price', FEATURES, housesale_df,\n",
    "                                            apply_f_regression, 9)"
   ]
  },
  {
   "cell_type": "code",
   "execution_count": 23,
   "metadata": {},
   "outputs": [],
   "source": [
    "model = sklearn_model['f_regression']['model']\n",
    "x_train = sklearn_model['f_regression']['x_train']\n",
    "x_test = sklearn_model['f_regression']['x_test']\n",
    "y_train = sklearn_model['f_regression']['y_train']\n",
    "y_test = sklearn_model['f_regression']['y_test']\n",
    "y_pred = sklearn_model['f_regression']['y_pred']"
   ]
  },
  {
   "cell_type": "code",
   "execution_count": 24,
   "metadata": {},
   "outputs": [
    {
     "name": "stdout",
     "output_type": "stream",
     "text": [
      "Trainin Score:  0.6374221173817467\n",
      "Test Score:  0.6504985903661497\n"
     ]
    }
   ],
   "source": [
    "print('Trainin Score: ', model.score(x_train, y_train))\n",
    "print('Test Score: ', r2_score(y_test, y_pred))"
   ]
  },
  {
   "cell_type": "code",
   "execution_count": 25,
   "metadata": {},
   "outputs": [],
   "source": [
    "from sklearn.feature_selection import mutual_info_regression\n",
    "\n",
    "def apply_mutual_info_regression(x, y, k, add_constant = False):\n",
    "    \n",
    "    select_features = SelectKBest(mutual_info_regression, k = k)\n",
    "    x_new = select_features.fit_transform(x, y)\n",
    "    \n",
    "    if add_constant is True:\n",
    "        x_new = sm.add_constant(x_new)\n",
    "        \n",
    "    return pd.DataFrame(x_new)"
   ]
  },
  {
   "cell_type": "code",
   "execution_count": null,
   "metadata": {},
   "outputs": [],
   "source": [
    "model_params = {}\n",
    "\n",
    "for i in range(1, 18):\n",
    "    model_params['mutual_info_regressio - k: ' + str(i)] = build_model(ols_reg, 'price', FEATURES, housesale_df,\n",
    "                                                                       apply_mutual_info_regression, i, True)"
   ]
  },
  {
   "cell_type": "code",
   "execution_count": 29,
   "metadata": {},
   "outputs": [],
   "source": [
    "sklearn_model = {}\n",
    "\n",
    "sklearn_model['mutual_info_regression'] = build_model(linear_reg, 'price',FEATURES, housesale_df,\n",
    "                                                      apply_mutual_info_regression, 4 )"
   ]
  },
  {
   "cell_type": "code",
   "execution_count": 27,
   "metadata": {},
   "outputs": [],
   "source": [
    " model = sklearn_model['mutual_info_regression']['model']\n",
    "x_train = sklearn_model['mutual_info_regression']['x_train']\n",
    "x_test = sklearn_model['mutual_info_regression']['x_test']\n",
    "y_train = sklearn_model['mutual_info_regression']['y_train']\n",
    "y_test = sklearn_model['mutual_info_regression']['y_test']\n",
    "y_pred = sklearn_model['mutual_info_regression']['y_pred']"
   ]
  },
  {
   "cell_type": "code",
   "execution_count": 28,
   "metadata": {},
   "outputs": [
    {
     "name": "stdout",
     "output_type": "stream",
     "text": [
      "Trainin Score:  0.6013199056465988\n",
      "Test Score:  0.5793417304393491\n"
     ]
    }
   ],
   "source": [
    "print('Trainin Score: ', model.score(x_train, y_train))\n",
    "print('Test Score: ', r2_score(y_test, y_pred))"
   ]
  },
  {
   "cell_type": "code",
   "execution_count": null,
   "metadata": {},
   "outputs": [],
   "source": []
  },
  {
   "cell_type": "code",
   "execution_count": null,
   "metadata": {},
   "outputs": [],
   "source": []
  }
 ],
 "metadata": {
  "kernelspec": {
   "display_name": "Python 3",
   "language": "python",
   "name": "python3"
  },
  "language_info": {
   "codemirror_mode": {
    "name": "ipython",
    "version": 3
   },
   "file_extension": ".py",
   "mimetype": "text/x-python",
   "name": "python",
   "nbconvert_exporter": "python",
   "pygments_lexer": "ipython3",
   "version": "3.8.5"
  }
 },
 "nbformat": 4,
 "nbformat_minor": 4
}
